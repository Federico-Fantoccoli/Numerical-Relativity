{
 "cells": [
  {
   "cell_type": "markdown",
   "metadata": {},
   "source": [
    "# TOV Equations"
   ]
  },
  {
   "cell_type": "code",
   "execution_count": null,
   "metadata": {},
   "outputs": [],
   "source": [
    "import matplotlib.pyplot as plt\n",
    "import numpy as np\n",
    "import math\n",
    "\n",
    "import kuibit.cactus_scalars as cs\n",
    "import kuibit.simdir as sd\n",
    "\n",
    "from kuibit import grid_data as gd\n",
    "import kuibit.unitconv as uc"
   ]
  },
  {
   "cell_type": "code",
   "execution_count": null,
   "metadata": {},
   "outputs": [],
   "source": [
    "# Download the data from the directories\n",
    "\n",
    "sim_90 = sd.SimDir(\"./TOV_90_pressure/\")\n",
    "sim_100 = sd.SimDir(\"./TOV_100_pressure/\")\n",
    "sim_110 = sd.SimDir(\"./TOV_110_pressure/\") # standard resolution\n",
    "sim_110_700 = sd.SimDir(\"./TOV_110_pressure_700/\")  # t_final = 700\n",
    "sim_100_res1 = sd.SimDir(\"./TOV_100_pressure_res1/\")\n",
    "sim_100_res05 = sd.SimDir(\"./TOV_100_pressure_res05/\")\n",
    "sim_110_C3 = sd.SimDir(\"./TOV_110_pressure_Carpet3/\") # adding 1 carpet at radius 6\n",
    "sim_110_C4 = sd.SimDir(\"./TOV_110_pressure_Carpet4/\") # adding 2 carpets at radius 6 and 3 \n",
    "sim_110_res1 = sd.SimDir(\"./TOV_110_pressure_res1/\") # increasing the resolution by 2\n",
    "sim_110_res05 = sd.SimDir(\"./TOV_110_pressure_res05/\") # increasing the resolution by 4\n",
    "sim_100_C3_12 = sd.SimDir(\"./TOV_100_pressure_Carpet3_12/\") # adding 1 carpet at radius 12\n",
    "sim_100_C4_12 = sd.SimDir(\"./TOV_100_pressure_Carpet4_12/\") # adding 2 carpets at radius 12 \n",
    "sim_100_C3_6 = sd.SimDir(\"./TOV_100_pressure_Carpet3_6/\") # adding 1 carpet at radius 6 to the unperturbed solution\n",
    "sim_HLLE_res1 = sd.SimDir(\"./TOV_110_HLLE/\")\n",
    "sim_HLLE_res2 = sd.SimDir(\"./TOV_110_HLLE_res2/\")\n",
    "sim_HLLE_res05 = sd.SimDir(\"./TOV_110_HLLE_res05/\")"
   ]
  },
  {
   "cell_type": "code",
   "execution_count": null,
   "metadata": {},
   "outputs": [],
   "source": [
    "# Take the time evolution of the variables\n",
    "\n",
    "timeseries_90 = sim_90.timeseries\n",
    "timeseries_100 = sim_100.timeseries\n",
    "timeseries_110 = sim_110.timeseries\n",
    "timeseries_110_700 = sim_110_700.timeseries # t_final = 700\n",
    "timeseries_100_res1 = sim_100_res1.timeseries\n",
    "timeseries_100_res05 = sim_100_res05.timeseries\n",
    "timeseries_110_C3 = sim_110_C3.timeseries  # adding 1 carpet at radius 6\n",
    "timeseries_110_C4 = sim_110_C4.timeseries  # adding 2 carpets at radius 6 and 3 \n",
    "timeseries_110_res1 = sim_110_res1.timeseries  # increasing the resolution by 2\n",
    "timeseries_110_res05 = sim_110_res05.timeseries  # increasing the resolution by 4\n",
    "timeseries_100_C3_12 = sim_100_C3_12.timeseries  # adding 1 carpet at radius 12\n",
    "timeseries_100_C4_12 = sim_100_C4_12.timeseries  # adding 2 carpets at radius 12\n",
    "timeseries_100_C3_6 = sim_100_C3_6.timeseries # adding 1 carpet at radius 6 to the unperturbed solution\n",
    "timesries_HLLE_res1 = sim_HLLE_res1.timeseries\n",
    "timeseries_HLLE_res2 = sim_HLLE_res2.timeseries\n",
    "timeseries_HLLE_res05 = sim_HLLE_res05.timeseries"
   ]
  },
  {
   "cell_type": "code",
   "execution_count": null,
   "metadata": {},
   "outputs": [],
   "source": [
    "# Pickin the maximum mass density for each timeseries\n",
    "\n",
    "rho_max_90 = timeseries_90.maximum.fields.rho\n",
    "rho_max_100 = timeseries_100.maximum.fields.rho\n",
    "rho_max_100_res1 = timeseries_100_res1.maximum.fields.rho\n",
    "rho_max_100_res05 = timeseries_100_res05.maximum.fields.rho\n",
    "rho_max_110 = timeseries_110.maximum.fields.rho\n",
    "rho_max_110_700 = timeseries_110_700.maximum.fields.rho\n",
    "rho_max_110_C3 = timeseries_110_C3.maximum.fields.rho\n",
    "rho_max_110_C4 = timeseries_110_C4.maximum.fields.rho\n",
    "rho_max_res1 = timeseries_110_res1.maximum.fields.rho\n",
    "rho_max_res05 = timeseries_110_res05.maximum.fields.rho\n",
    "rho_max_100_C3_12 = timeseries_100_C3_12.maximum.fields.rho\n",
    "rho_max_100_C4_12 = timeseries_100_C4_12.maximum.fields.rho\n",
    "rho_max_100_C3_6 = timeseries_100_C3_6.maximum.fields.rho\n",
    "rho_max_HLLE_res1 = timesries_HLLE_res1.maximum.fields.rho\n",
    "rho_max_HLLE_res2 = timeseries_HLLE_res2.maximum.fields.rho\n",
    "rho_max_HLLE_res05 = timeseries_HLLE_res05.maximum.fields.rho\n",
    "\n",
    "# You can change the maximum of other functions"
   ]
  },
  {
   "cell_type": "code",
   "execution_count": null,
   "metadata": {},
   "outputs": [],
   "source": [
    "# Look at some conversion factors:\n",
    "CU = uc.geom_umass_msun(1) #M_L3 = 10**(-3)\n",
    "CGmS = uc.Units(1e-2, 1e-3, 1e-3)  # cm in m, g in kg,ms in s\n",
    "\n",
    "C_length = CU.length / CGmS.length\n",
    "C_time = CU.time / CGmS.time\n",
    "C_density = CU.density / (CGmS.mass / CGmS.length**3)\n",
    " \n",
    "print('Length conversion: ', C_length)\n",
    "print('Time conversion: ', C_time)\n",
    "print('Density conversion: ', C_density)"
   ]
  },
  {
   "cell_type": "markdown",
   "metadata": {},
   "source": [
    "## 1D Density profiles"
   ]
  },
  {
   "cell_type": "code",
   "execution_count": null,
   "metadata": {},
   "outputs": [],
   "source": [
    "plt.plot(rho_max_90.t * C_time, rho_max_90 * C_density, label=\"maximum rest-mass density 90%\", c = 'Orange')\n",
    "plt.xlabel(r'$t$ [$ms$]')\n",
    "plt.ylabel(r'$\\rho_c$')\n",
    "plt.legend()\n",
    "plt.show()"
   ]
  },
  {
   "cell_type": "code",
   "execution_count": null,
   "metadata": {},
   "outputs": [],
   "source": [
    "plt.plot(rho_max_100.t * C_time, rho_max_100 * C_density, label=\"maximum rest-mass density 100%\", c = 'Blue')\n",
    "plt.xlabel(r'$t$ [$ms$]')\n",
    "plt.ylabel(r'$\\rho_c$')\n",
    "plt.legend()\n",
    "plt.show()"
   ]
  },
  {
   "cell_type": "code",
   "execution_count": null,
   "metadata": {},
   "outputs": [],
   "source": [
    "plt.plot(rho_max_110.t * C_time, rho_max_100 * C_density, label=\"maximum rest-mass density 110%\", c = 'Green')\n",
    "plt.xlabel(r'$t$ [$ms$]')\n",
    "plt.ylabel(r'$\\rho_c$')\n",
    "plt.legend()\n",
    "plt.show()"
   ]
  },
  {
   "cell_type": "code",
   "execution_count": null,
   "metadata": {},
   "outputs": [],
   "source": [
    "plt.plot(rho_max_90.t * C_time, rho_max_90 * C_density, label=\"maximum rest-mass density 90%\")\n",
    "plt.plot(rho_max_100.t * C_time, rho_max_100 * C_density, label=\"maximum rest-mass density 100%\")\n",
    "plt.plot(rho_max_110.t * C_time, rho_max_110 * C_density, label=\"maximum rest-mass density 110%\")\n",
    "plt.xlabel(r'$t$ [$ms$]')\n",
    "plt.ylabel(r'$\\rho_c$')\n",
    "#plt.legend('upper right')\n",
    "plt.legend()\n",
    "plt.show()"
   ]
  },
  {
   "cell_type": "code",
   "execution_count": null,
   "metadata": {},
   "outputs": [],
   "source": [
    "plt.plot(rho_max_110_700.t * C_time, rho_max_110_700 * C_density, label=\"maximum rest-mass density 110%\")\n",
    "plt.xlabel(r'$t$ [$ms$]')\n",
    "plt.ylabel(r'$\\rho_c$')\n",
    "#plt.legend('upper right')\n",
    "plt.legend()\n",
    "plt.show()"
   ]
  },
  {
   "cell_type": "code",
   "execution_count": null,
   "metadata": {},
   "outputs": [],
   "source": [
    "# Perturbation profiles with different resolutions\n",
    "\n",
    "plt.plot(rho_max_110.t * C_time, rho_max_110 * C_density, label=\"res = 2\")\n",
    "plt.plot(rho_max_res1.t * C_time, rho_max_res1 * C_density, label=\"res = 1\")\n",
    "plt.plot(rho_max_res05.t * C_time, rho_max_res05 * C_density, label=\"res = 0.5\")\n",
    "\n",
    "plt.xlabel(r'$t$ [$ms$]')\n",
    "plt.ylabel(r'$\\rho_c$')\n",
    "#plt.legend('upper right')\n",
    "plt.legend()\n",
    "plt.show()"
   ]
  },
  {
   "cell_type": "code",
   "execution_count": null,
   "metadata": {},
   "outputs": [],
   "source": [
    "# Perturbations profiles with different carpets\n",
    "\n",
    "plt.plot(rho_max_110_C3.t * C_time, rho_max_110_C3 * C_density , label=\"n_carpet = 3\")\n",
    "plt.plot(rho_max_110_C4.t * C_time, rho_max_110_C4 * C_density, label=\"n_carpet = 4\")\n",
    "\n",
    "plt.xlabel(r'$t$ [$ms$]')\n",
    "plt.ylabel(r'$\\rho_c$')\n",
    "#plt.legend('upper right')\n",
    "plt.legend()\n",
    "plt.show()"
   ]
  },
  {
   "cell_type": "code",
   "execution_count": null,
   "metadata": {},
   "outputs": [],
   "source": [
    "# Unperturbed profiles with different carpets\n",
    "\n",
    "plt.plot(rho_max_100.t * C_time, rho_max_100 * C_density, label=\"$n_{carpets} = 2$\", c = 'Orange')\n",
    "plt.plot(rho_max_100_C3_12.t * C_time, rho_max_100_C3_12 * C_density, label=\"$n_{carpets} = 3$\", c = 'Green')\n",
    "plt.plot(rho_max_100_C4_12.t * C_time, rho_max_100_C4_12 * C_density, label=\"$n_{carpets} = 4$\", c = 'Red')\n",
    "plt.xlabel(r'$t$ [$ms$]')\n",
    "plt.ylabel(r'$\\rho_c$')\n",
    "plt.legend()\n",
    "plt.show()"
   ]
  },
  {
   "cell_type": "code",
   "execution_count": null,
   "metadata": {},
   "outputs": [],
   "source": [
    "# unperturbed profile with different carpets\n",
    "\n",
    "plt.plot(rho_max_100.t * C_time, rho_max_100 * C_density, label=\"$size = 3 km $\", c = 'Orange')\n",
    "plt.plot(rho_max_100_res1.t * C_time, rho_max_100_res1 * C_density, label=\"$size = 1.5 km$\", c = 'Green')\n",
    "plt.plot(rho_max_100_res05.t * C_time, rho_max_100_res05 * C_density, label=\"$size = 0.75 km$\", c = 'Red')\n",
    "plt.xlabel(r'$t$ [$ms$]')\n",
    "plt.ylabel(r'$\\rho_c$')\n",
    "plt.legend()\n",
    "plt.show()"
   ]
  },
  {
   "cell_type": "code",
   "execution_count": null,
   "metadata": {},
   "outputs": [],
   "source": [
    "# Comparison between grid and resolution\n",
    "\n",
    "plt.plot(rho_max_100.t * C_time, rho_max_100 * C_density, label=\"$n_{carpets} = 2$\", c = 'Orange')\n",
    "plt.plot(rho_max_100_C3_12.t * C_time, rho_max_100_C3_12 * C_density, label=\"$n_{carpets} = 3$\", c = 'Green')\n",
    "plt.plot(rho_max_100_res1.t * C_time, rho_max_100_res1 * C_density, label=\"$size = 1.5 km$\", c = 'Violet', ls = '--')\n",
    "plt.plot(rho_max_100_res05.t * C_time, rho_max_100_res05 * C_density, label=\"$size = 0.75 km$\", c = 'Red')\n",
    "plt.xlabel(r'$t$ [$ms$]')\n",
    "plt.ylabel(r'$\\rho_c$')\n",
    "plt.legend()\n",
    "plt.show()"
   ]
  },
  {
   "cell_type": "code",
   "execution_count": null,
   "metadata": {},
   "outputs": [],
   "source": [
    "# Comparison between the grid and the increasing resolution\n",
    "\n",
    "plt.plot(rho_max_100.t * C_time, rho_max_100 * C_density, label=\"$n_{carpets} = 2$\", c = 'Orange')\n",
    "plt.plot(rho_max_100_C3_12.t * C_time, rho_max_100_C3_12 * C_density, label=\"$n_{carpets} = 3$\", c = 'Green')\n",
    "plt.plot(rho_max_100_C3_6.t * C_time, rho_max_100_C3_6 * C_density, label=\"$n_{carpets} = 3$, s = 6\", c = 'blue', ls = '-.')\n",
    "plt.plot(rho_max_100_res1.t * C_time, rho_max_100_res1 * C_density, label=\"$size = 1.5 km$\", c = 'Violet', ls = '--')\n",
    "\n",
    "plt.xlabel(r'$t$ [$ms$]')\n",
    "plt.ylabel(r'$\\rho_c$')\n",
    "plt.legend()\n",
    "plt.show()"
   ]
  },
  {
   "cell_type": "markdown",
   "metadata": {},
   "source": [
    "# HLLE Profiles"
   ]
  },
  {
   "cell_type": "code",
   "execution_count": null,
   "metadata": {},
   "outputs": [],
   "source": [
    "# Perturbed profile (110) with different resolutions\n",
    "\n",
    "plt.plot(rho_max_HLLE_res2.t * C_time, rho_max_HLLE_res2 * C_density, label=\"$size = 3 km$\", c = 'Orange')\n",
    "plt.plot(rho_max_HLLE_res1.t * C_time, rho_max_HLLE_res1 * C_density, label=\"$size = 1.5 km $\", c = 'Green')\n",
    "plt.plot(rho_max_HLLE_res05.t * C_time, rho_max_HLLE_res05 * C_density, label=\"$size = 0.75 km$\", c = 'Red')\n",
    "plt.xlabel(r'$t$ [$ms$]')\n",
    "plt.ylabel(r'$\\rho_c$')\n",
    "plt.legend()\n",
    "plt.show()"
   ]
  },
  {
   "cell_type": "code",
   "execution_count": null,
   "metadata": {},
   "outputs": [],
   "source": [
    "# Comparison with the perturbed Marquina\n",
    "\n",
    "plt.plot(rho_max_res1.t * C_time, rho_max_res1 * C_density, label=\"res = 1\")\n",
    "plt.plot(rho_max_res05.t * C_time, rho_max_res05 * C_density, label=\"res = 0.5\")\n",
    "\n",
    "plt.plot(rho_max_HLLE_res1.t * C_time, rho_max_HLLE_res1 * C_density, label=\"$size = 1.5 km $\", c = 'Green', ls = '--')\n",
    "plt.plot(rho_max_HLLE_res05.t * C_time, rho_max_HLLE_res05 * C_density, label=\"$size = 0.75 km$\", c = 'Red', ls = '--')\n",
    "\n",
    "plt.xlabel(r'$t$ [$ms$]')\n",
    "plt.ylabel(r'$\\rho_c$')\n",
    "plt.legend()\n",
    "plt.show()"
   ]
  },
  {
   "cell_type": "code",
   "execution_count": null,
   "metadata": {},
   "outputs": [],
   "source": [
    "plt.plot(rho_max_110.t * C_time, rho_max_110 * C_density, label=\"Marquina\")\n",
    "plt.plot(rho_max_HLLE_res2.t * C_time, rho_max_HLLE_res2* C_density, label=\"HLLE\", c = 'Orange', ls = '--')\n",
    "\n",
    "plt.title('size = 3km, res = 2')\n",
    "plt.xlabel(r'$t$ [$ms$]')\n",
    "plt.ylabel(r'$\\rho_c$')\n",
    "plt.legend()\n",
    "plt.show()\n",
    "\n",
    "\n",
    "plt.plot(rho_max_res1.t * C_time, rho_max_res1 * C_density, label=\"Marquina\")\n",
    "plt.plot(rho_max_HLLE_res1.t * C_time, rho_max_HLLE_res1 * C_density, label=\"HLLE\", c = 'Green', ls = '--')\n",
    "\n",
    "plt.title('size = 1.5km, res = 1')\n",
    "plt.xlabel(r'$t$ [$ms$]')\n",
    "plt.ylabel(r'$\\rho_c$')\n",
    "plt.legend()\n",
    "plt.show()\n",
    "\n",
    "\n",
    "plt.plot(rho_max_res05.t * C_time, rho_max_res05 * C_density, label=\"Marquina\")\n",
    "plt.plot(rho_max_HLLE_res05.t * C_time, rho_max_HLLE_res05 * C_density, label=\"HLLE\", c = 'Red', ls = '--')\n",
    "\n",
    "plt.title('size = 0.75km, res = 0.5')\n",
    "plt.xlabel(r'$t$ [$ms$]')\n",
    "plt.ylabel(r'$\\rho_c$')\n",
    "plt.legend()\n",
    "plt.show()"
   ]
  },
  {
   "cell_type": "markdown",
   "metadata": {},
   "source": [
    "## 2D Density plots"
   ]
  },
  {
   "cell_type": "code",
   "execution_count": null,
   "metadata": {},
   "outputs": [],
   "source": [
    "gf_90 = sim_90.gf\n",
    "gf_100 = sim_100.gf\n",
    "gf_110 = sim_110.gf\n",
    "\n",
    "# picking the best resolution and one carpet\n",
    "gf_110_res05 = sim_110_res05.gf\n",
    "gf_110_C4 = sim_110_C4.gf\n",
    "\n",
    "# picking the C4_12 unperturbed\n",
    "gf_100_C4_12 = sim_100_C4_12.gf\n"
   ]
  },
  {
   "cell_type": "code",
   "execution_count": null,
   "metadata": {},
   "outputs": [],
   "source": [
    "# I have some quantities in 2D this time!\n",
    "\n",
    "vars2D_90 = gf_90.xy\n",
    "vars2D_100 = gf_100.xy\n",
    "vars2D_110 = gf_110.xy\n",
    "\n",
    "vars2d_110_res05 = gf_110_res05.xy\n",
    "vars2d_110_C4 = gf_110_C4.xy\n",
    "\n",
    "vars2d_100_C4_12 = gf_100_C4_12.xy"
   ]
  },
  {
   "cell_type": "code",
   "execution_count": null,
   "metadata": {},
   "outputs": [],
   "source": [
    "rho_90 = vars2D_90.fields.rho \n",
    "rho_100 = vars2D_100.fields.rho \n",
    "rho_110 = vars2D_110.fields.rho \n",
    "\n",
    "rho_110_res05 = vars2d_110_res05.fields.rho\n",
    "rho_110_C4 = vars2d_110_C4.fields.rho\n",
    "\n",
    "rho_100_C4_12 = vars2d_100_C4_12.fields.rho"
   ]
  },
  {
   "cell_type": "code",
   "execution_count": null,
   "metadata": {},
   "outputs": [],
   "source": [
    "# 90% DENSITY PERTURBATION\n",
    "\n",
    "#two dimensional grid: I specified the coordinates of the two corners\n",
    "small_grid = gd.UniformGrid([100, 100], x0=[0, 0], x1=[18, 18])\n",
    "\n",
    "# Last iteration number\n",
    "rho_small_90 = rho_90.read_on_grid(409600, small_grid)\n",
    "\n",
    "# The colors must be fixed at the initial scale at every iteration: vmin and vmax options\n",
    "#cf = plt.contourf(*rho_small.coordinates_meshgrid(), np.log10(rho_small.data_xyz), vmin=-10, vmax=-3)\n",
    "cf_90 = plt.pcolormesh(*rho_small_90.coordinates_meshgrid(), np.log10(rho_small_90.data_xyz), vmin = -10, vmax=-3)\n",
    "plt.colorbar(cf_90)"
   ]
  },
  {
   "cell_type": "code",
   "execution_count": null,
   "metadata": {},
   "outputs": [],
   "source": [
    "# 100% DENSITY UNPERTURBED\n",
    "\n",
    "# Last iteration number\n",
    "rho_small_100 = rho_100.read_on_grid(409600, small_grid)\n",
    "\n",
    "# The colors must be fixed at the initial scale at every iteration: vmin and vmax options\n",
    "#cf = plt.contourf(*rho_small.coordinates_meshgrid(), np.log10(rho_small.data_xyz), vmin=-10, vmax=-3)\n",
    "cf_100 = plt.pcolormesh(*rho_small_100.coordinates_meshgrid(), np.log10(rho_small_100.data_xyz), vmin=-10, vmax=-3)\n",
    "plt.title('Unperturbed star, dx = 2')\n",
    "plt.xlabel('IU')\n",
    "plt.ylabel('IU')\n",
    "plt.colorbar(cf_100)"
   ]
  },
  {
   "cell_type": "code",
   "execution_count": null,
   "metadata": {},
   "outputs": [],
   "source": [
    "# 110% DENSITY PERTURBATION WITH DIFFERENT RESOLUTIONS\n",
    "# These plots are in physical units\n",
    "\n",
    "# Last iteration number\n",
    "rho_small_110 = rho_110.read_on_grid(409600, small_grid)\n",
    "\n",
    "min = np.min(np.log10(rho_small_110.data_xyz * C_density))\n",
    "max = np.max(np.log10(rho_small_110.data_xyz * C_density))\n",
    "\n",
    "rho_small_110_grid = []\n",
    "\n",
    "for vec in rho_small_110.coordinates_meshgrid():\n",
    "    rho_small_110_grid.append(vec * C_length / 100000)\n",
    "\n",
    "# The colors must be fixed at the initial scale at every iteration: vmin and vmax options\n",
    "#cf = plt.contourf(*rho_small.coordinates_meshgrid(), np.log10(rho_small.data_xyz), vmin=-10, vmax=-3)\n",
    "cf_110 = plt.pcolormesh(*rho_small_110_grid, np.log10(rho_small_110.data_xyz * C_density), vmin = min, vmax = max)\n",
    "plt.title('Perturbed star, dx = 2')\n",
    "plt.xlabel('km')\n",
    "plt.ylabel('km')\n",
    "plt.colorbar(cf_110,  label=r'$\\log(\\rho\\ /\\ [\\mathrm{g\\ cm^{-3}}])$')\n",
    "plt.show()\n",
    "\n",
    "# Last iteration number\n",
    "rho_small_110_res05 = rho_110_res05.read_on_grid(409600, small_grid)\n",
    "\n",
    "min = np.min(np.log10(rho_small_110_res05.data_xyz * C_density))\n",
    "max = np.max(np.log10(rho_small_110_res05.data_xyz * C_density))\n",
    "\n",
    "rho_small_110_grid_res05 = []\n",
    "\n",
    "for vec in rho_small_110_res05.coordinates_meshgrid():\n",
    "    rho_small_110_grid_res05.append(vec * C_length / 100000)\n",
    "\n",
    "# The colors must be fixed at the initial scale at every iteration: vmin and vmax options\n",
    "#cf = plt.contourf(*rho_small.coordinates_meshgrid(), np.log10(rho_small.data_xyz), vmin=-10, vmax=-3)\n",
    "cf_110_res05 = plt.pcolormesh(*rho_small_110_grid_res05, np.log10(rho_small_110_res05.data_xyz * C_density), vmin= min, vmax= max)\n",
    "plt.title('Perturbed star, dx = 0.5')\n",
    "plt.xlabel('km')\n",
    "plt.ylabel('km')\n",
    "plt.colorbar(cf_110_res05, label=r'$\\log(\\rho\\ /\\ [\\mathrm{g\\ cm^{-3}}])$')\n",
    "plt.show()\n",
    "\n",
    "# Last iteration number\n",
    "rho_small_110_C4 = rho_110_C4.read_on_grid(409600, small_grid)\n",
    "\n",
    "min = np.min(np.log10(rho_small_110_C4.data_xyz * C_density))\n",
    "max = np.max(np.log10(rho_small_110_C4.data_xyz * C_density))\n",
    "\n",
    "rho_small_110_grid_C4 = []\n",
    "\n",
    "for vec in rho_small_110_C4.coordinates_meshgrid():\n",
    "    rho_small_110_grid_C4.append(vec * C_length / 100000)\n",
    "\n",
    "# The colors must be fixed at the initial scale at every iteration: vmin and vmax options\n",
    "#cf = plt.contourf(*rho_small.coordinates_meshgrid(), np.log10(rho_small.data_xyz), vmin=-10, vmax=-3)\n",
    "cf_110_C4 = plt.pcolormesh(*rho_small_110_grid_C4, np.log10(rho_small_110_C4.data_xyz * C_density), vmin= min, vmax= max)\n",
    "plt.title('Perturbed star, dx = 1')\n",
    "plt.xlabel('km')\n",
    "plt.ylabel('km')\n",
    "plt.colorbar(cf_110_C4,  label=r'$\\log(\\rho\\ /\\ [\\mathrm{g\\ cm^{-3}}])$')\n",
    "plt.show()"
   ]
  },
  {
   "cell_type": "code",
   "execution_count": null,
   "metadata": {},
   "outputs": [],
   "source": [
    "# 90% animation\n",
    "\n",
    "from IPython.display import HTML\n",
    "import matplotlib.animation as animation\n",
    "\n",
    "ims = []\n",
    "fig,ax = plt.subplots()\n",
    "\n",
    "for i in rho_90.iterations[0::1]:\n",
    "    rho_small = rho_90.read_on_grid(i, small_grid)\n",
    "    ax.set_xlabel(r'$x (M_\\odot)$')\n",
    "    ax.set_ylabel(r'$y (M_\\odot)$')\n",
    "    ax.set_aspect('equal')\n",
    "    im = ax.pcolormesh(*rho_small.coordinates_meshgrid(), np.log10(rho_small.data_xyz), animated=True, vmin=-10, vmax=-3)\n",
    "    plt.plot()\n",
    "    # plt.colorbar(im)\n",
    "    title = ax.text(0.5,1.05,('Time='+str(rho_90.available_times[i//2048])), size=plt.rcParams[\"axes.titlesize\"], ha=\"center\", transform=ax.transAxes)\n",
    "    ims.append([im, title])\n",
    "    plt.close()\n",
    "    \n",
    "\n",
    "ani = animation.ArtistAnimation(fig, ims, interval=50, blit=True, repeat_delay=1000)\n",
    "HTML(ani.to_jshtml())"
   ]
  },
  {
   "cell_type": "markdown",
   "metadata": {},
   "source": [
    "The star is oscillating due to the fact that we introduced a perturbation fixing a grid: it has a numerical origin, the simulated NS is not a perfect sphere!\n",
    "You can increase the resolution to reduce this perturbation: rho_c should be a constant line, the star does nothing and it's stable\n",
    "Change the resolution allows to distinghuish between numerical artifacts to physical true effects."
   ]
  },
  {
   "cell_type": "markdown",
   "metadata": {},
   "source": [
    "# Some animations"
   ]
  },
  {
   "cell_type": "code",
   "execution_count": null,
   "metadata": {},
   "outputs": [],
   "source": [
    "# 100% oscillation\n",
    "\n",
    "ims = []\n",
    "fig,ax = plt.subplots()\n",
    "\n",
    "for i in rho_100.iterations[0::1]:\n",
    "    rho_small = rho_100.read_on_grid(i, small_grid)\n",
    "    ax.set_xlabel(r'$x (M_\\odot)$')\n",
    "    ax.set_ylabel(r'$y (M_\\odot)$')\n",
    "    ax.set_aspect('equal')\n",
    "    im = ax.pcolormesh(*rho_small.coordinates_meshgrid(), np.log10(rho_small.data_xyz), animated=True, vmin=-10, vmax=-3)\n",
    "    plt.plot()\n",
    "    # plt.colorbar(im)\n",
    "    title = ax.text(0.5,1.05,('Time='+str(rho_100.available_times[i//2048])), size=plt.rcParams[\"axes.titlesize\"], ha=\"center\", transform=ax.transAxes)\n",
    "    ims.append([im, title])\n",
    "    plt.close()\n",
    "    \n",
    "\n",
    "ani = animation.ArtistAnimation(fig, ims, interval=50, blit=True, repeat_delay=1000)\n",
    "HTML(ani.to_jshtml())"
   ]
  },
  {
   "cell_type": "code",
   "execution_count": null,
   "metadata": {},
   "outputs": [],
   "source": [
    "# 110 Oscillation\n",
    "\n",
    "ims = []\n",
    "fig,ax = plt.subplots()\n",
    "\n",
    "for i in rho_110.iterations[0::1]:\n",
    "    rho_small = rho_110.read_on_grid(i, small_grid)\n",
    "    ax.set_xlabel(r'$x (M_\\odot)$')\n",
    "    ax.set_ylabel(r'$y (M_\\odot)$')\n",
    "    ax.set_aspect('equal')\n",
    "    im = ax.pcolormesh(*rho_small.coordinates_meshgrid(), np.log10(rho_small.data_xyz), animated=True, vmin=-10, vmax=-3)\n",
    "    plt.plot()\n",
    "    # plt.colorbar(im)\n",
    "    title = ax.text(0.5,1.05,('Time='+str(rho_110.available_times[i//2048])), size=plt.rcParams[\"axes.titlesize\"], ha=\"center\", transform=ax.transAxes)\n",
    "    ims.append([im, title])\n",
    "    plt.close()\n",
    "    \n",
    "\n",
    "ani = animation.ArtistAnimation(fig, ims, interval=50, blit=True, repeat_delay=1000)\n",
    "HTML(ani.to_jshtml())"
   ]
  },
  {
   "cell_type": "code",
   "execution_count": null,
   "metadata": {},
   "outputs": [],
   "source": [
    "# 110 oscillation with 4 grid layers\n",
    "\n",
    "ims = []\n",
    "fig,ax = plt.subplots()\n",
    "\n",
    "for i in rho_110_C4.iterations[0::1]:\n",
    "    rho_small = rho_110_C4.read_on_grid(i, small_grid)\n",
    "    ax.set_xlabel(r'$x (M_\\odot)$')\n",
    "    ax.set_ylabel(r'$y (M_\\odot)$')\n",
    "    ax.set_aspect('equal')\n",
    "    im = ax.pcolormesh(*rho_small.coordinates_meshgrid(), np.log10(rho_small.data_xyz), animated=True, vmin=-10, vmax=-3)\n",
    "    plt.plot()\n",
    "    # plt.colorbar(im)\n",
    "    title = ax.text(0.5,1.05,('Time='+str(rho_110_C4.available_times[i//2048])), size=plt.rcParams[\"axes.titlesize\"], ha=\"center\", transform=ax.transAxes)\n",
    "    ims.append([im, title])\n",
    "    plt.close()\n",
    "    \n",
    "\n",
    "ani = animation.ArtistAnimation(fig, ims, interval=50, blit=True, repeat_delay=1000)\n",
    "HTML(ani.to_jshtml())"
   ]
  },
  {
   "cell_type": "code",
   "execution_count": null,
   "metadata": {},
   "outputs": [],
   "source": [
    "# 110 oscillation with highest resolution\n",
    "\n",
    "ims = []\n",
    "fig,ax = plt.subplots()\n",
    "\n",
    "for i in rho_110_res05.iterations[0::1]:\n",
    "    rho_small = rho_110_res05.read_on_grid(i, small_grid)\n",
    "    ax.set_xlabel(r'$x (M_\\odot)$')\n",
    "    ax.set_ylabel(r'$y (M_\\odot)$')\n",
    "    ax.set_aspect('equal')\n",
    "    im = ax.pcolormesh(*rho_small.coordinates_meshgrid(), np.log10(rho_small.data_xyz), animated=True, vmin=-10, vmax=-3)\n",
    "    plt.plot()\n",
    "    # plt.colorbar(im)\n",
    "    title = ax.text(0.5,1.05,('Time='+str(rho_110_res05.available_times[i//2048])), size=plt.rcParams[\"axes.titlesize\"], ha=\"center\", transform=ax.transAxes)\n",
    "    ims.append([im, title])\n",
    "    plt.close()\n",
    "    \n",
    "\n",
    "ani = animation.ArtistAnimation(fig, ims, interval=50, blit=True, repeat_delay=1000)\n",
    "HTML(ani.to_jshtml())"
   ]
  },
  {
   "cell_type": "code",
   "execution_count": null,
   "metadata": {},
   "outputs": [],
   "source": [
    "# 100 unperturbed with 4 layers\n",
    "\n",
    "ims = []\n",
    "fig,ax = plt.subplots()\n",
    "\n",
    "for i in rho_100_C4_12.iterations[0::1]:\n",
    "    rho_small = rho_100_C4_12.read_on_grid(i, small_grid)\n",
    "    ax.set_xlabel(r'$x (M_\\odot)$')\n",
    "    ax.set_ylabel(r'$y (M_\\odot)$')\n",
    "    ax.set_aspect('equal')\n",
    "    im = ax.pcolormesh(*rho_small.coordinates_meshgrid(), np.log10(rho_small.data_xyz), animated=True, vmin=-10, vmax=-3)\n",
    "    plt.plot()\n",
    "    # plt.colorbar(im)\n",
    "    title = ax.text(0.5,1.05,('Time='+str(rho_100_C4_12.available_times[i//2048])), size=plt.rcParams[\"axes.titlesize\"], ha=\"center\", transform=ax.transAxes)\n",
    "    ims.append([im, title])\n",
    "    plt.close()\n",
    "    \n",
    "\n",
    "ani = animation.ArtistAnimation(fig, ims, interval=50, blit=True, repeat_delay=1000)\n",
    "HTML(ani.to_jshtml())"
   ]
  },
  {
   "cell_type": "code",
   "execution_count": null,
   "metadata": {},
   "outputs": [],
   "source": []
  }
 ],
 "metadata": {
  "kernelspec": {
   "display_name": "Python 3 (ipykernel)",
   "language": "python",
   "name": "python3"
  },
  "language_info": {
   "codemirror_mode": {
    "name": "ipython",
    "version": 3
   },
   "file_extension": ".py",
   "mimetype": "text/x-python",
   "name": "python",
   "nbconvert_exporter": "python",
   "pygments_lexer": "ipython3",
   "version": "3.9.13"
  }
 },
 "nbformat": 4,
 "nbformat_minor": 4
}
