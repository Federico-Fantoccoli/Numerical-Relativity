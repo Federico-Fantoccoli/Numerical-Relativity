{
 "cells": [
  {
   "cell_type": "code",
   "execution_count": null,
   "id": "12c9e598-4e4d-466a-be7c-79cfbe7e571b",
   "metadata": {},
   "outputs": [],
   "source": [
    "import matplotlib.pyplot as plt\n",
    "import numpy as np\n",
    "from kuibit.simdir import SimDir\n",
    "from kuibit.grid_data import UniformGrid"
   ]
  },
  {
   "cell_type": "code",
   "execution_count": null,
   "id": "31f14fb5-34e6-4bdd-af84-e78ac6e84f9b",
   "metadata": {},
   "outputs": [],
   "source": [
    "exact = np.loadtxt(\"Sod_exact.dat\")"
   ]
  },
  {
   "cell_type": "code",
   "execution_count": null,
   "id": "b9d7127e-4436-4d60-8cd3-a9038cd3f93d",
   "metadata": {},
   "outputs": [],
   "source": [
    "x_exact=exact[:,0]\n",
    "rho_exact=exact[:,1]\n",
    "press_exact=exact[:,2] #note: this is pgas+pmag\n",
    "vx_exact=exact[:,3]\n",
    "vy_exact=exact[:,4]\n",
    "vz_exact=exact[:,5]\n",
    "By_exact=exact[:,6]\n",
    "Bz_exact=exact[:,7]"
   ]
  },
  {
   "cell_type": "code",
   "execution_count": null,
   "id": "d3e0346a-912c-40f7-8c95-4fc89471cf65",
   "metadata": {},
   "outputs": [],
   "source": [
    "gf= SimDir(\"./Sod_1d_40/\").gf\n",
    "print(gf)\n",
    "\n",
    "gf1 = SimDir(\"./Sod_1d_400/\").gf\n",
    "gf2 = SimDir(\"./Sod_1d_1000/\").gf\n",
    "\n",
    "# Look at the meaning of tau, dens, press\n",
    "# gf stands for Grid Function: function defined at each poinjt of the grid\n",
    "\n",
    "# Here I have just a 1D output"
   ]
  },
  {
   "cell_type": "code",
   "execution_count": null,
   "id": "a449aa62-c7f9-49a8-a3cc-4db3dad31e16",
   "metadata": {},
   "outputs": [],
   "source": [
    "vars1d_40=gf.x\n",
    "\n",
    "vars1d_400 = gf1.x\n",
    "vars1d_1000 = gf2.x"
   ]
  },
  {
   "cell_type": "code",
   "execution_count": null,
   "id": "7bb53934-0b3d-435e-8f27-94df3af0ad7a",
   "metadata": {},
   "outputs": [],
   "source": [
    "# Taking the density, speed and pressure\n",
    "\n",
    "rho_40 =vars1d_40.fields.rho\n",
    "vel_40 =vars1d_40.fields.vel[0]\n",
    "press_40 =vars1d_40.fields.press\n",
    "\n",
    "rho_400 =vars1d_400.fields.rho\n",
    "vel_400 =vars1d_400.fields.vel[0]\n",
    "press_400 =vars1d_400.fields.press\n",
    "\n",
    "rho_1000 =vars1d_1000.fields.rho\n",
    "vel_1000 =vars1d_1000.fields.vel[0]\n",
    "press_1000 =vars1d_1000.fields.press"
   ]
  },
  {
   "cell_type": "code",
   "execution_count": null,
   "id": "fca58277-c444-468d-8f5d-4878c77595e1",
   "metadata": {},
   "outputs": [],
   "source": [
    "small_grid = UniformGrid([101], x0=[-0.45], x1=[0.45])"
   ]
  },
  {
   "cell_type": "code",
   "execution_count": null,
   "id": "befa05da-8b51-4b7d-b413-93813a82c551",
   "metadata": {},
   "outputs": [],
   "source": [
    "print(rho_40.iterations)\n",
    "print(rho_400.iterations)\n",
    "print(rho_1000.iterations)\n",
    "# Informations about rest mass density at different interations"
   ]
  },
  {
   "cell_type": "code",
   "execution_count": null,
   "id": "997a2506-68d8-46b6-a298-b345020ce7d8",
   "metadata": {},
   "outputs": [],
   "source": [
    "rho_final_40 = rho_40.read_on_grid(100, small_grid)\n",
    "rho_final_400 = rho_400.read_on_grid(200, small_grid)\n",
    "rho_final_1000 = rho_1000.read_on_grid(500, small_grid)\n",
    "\n",
    "vel_final_40 = vel_40.read_on_grid(100, small_grid)\n",
    "vel_final_400 = vel_400.read_on_grid(200, small_grid)\n",
    "vel_final_1000 = vel_1000.read_on_grid(500, small_grid)\n",
    "\n",
    "press_final_40 = press_40.read_on_grid(100, small_grid)\n",
    "press_final_400 = press_400.read_on_grid(200, small_grid)\n",
    "press_final_1000 = press_1000.read_on_grid(500, small_grid)\n",
    "\n",
    "# interpolate the Rest mass desnity at the last iteration "
   ]
  },
  {
   "cell_type": "code",
   "execution_count": null,
   "id": "6b92b2cc-dbaa-4fc2-aafc-102a5f8762aa",
   "metadata": {},
   "outputs": [],
   "source": [
    "rho_in_40 = rho_40.read_on_grid(0, small_grid)\n",
    "rho_in_400 = rho_400.read_on_grid(0, small_grid)\n",
    "rho_in_1000 = rho_1000.read_on_grid(0, small_grid)\n",
    "\n",
    "vel_in_40 = vel_40.read_on_grid(0, small_grid)\n",
    "vel_in_400 = vel_400.read_on_grid(0, small_grid)\n",
    "vel_in_1000 = vel_1000.read_on_grid(0, small_grid)\n",
    "\n",
    "press_in_40 = press_40.read_on_grid(0, small_grid)\n",
    "press_in_400 = press_400.read_on_grid(0, small_grid)\n",
    "press_in_1000 = press_1000.read_on_grid(0, small_grid)"
   ]
  },
  {
   "cell_type": "code",
   "execution_count": null,
   "id": "13ebe10f-0289-4989-b445-2eab9e576992",
   "metadata": {},
   "outputs": [],
   "source": [
    "rho_med_40 = rho_40.read_on_grid(30, small_grid)\n",
    "rho_med_400 = rho_400.read_on_grid(60, small_grid)\n",
    "rho_med_1000 = rho_1000.read_on_grid(150, small_grid)\n",
    "\n",
    "vel_med_40 = vel_40.read_on_grid(30, small_grid)\n",
    "vel_med_400 = vel_400.read_on_grid(60, small_grid)\n",
    "vel_med_1000 = vel_1000.read_on_grid(150, small_grid)\n",
    "\n",
    "press_med_40 = press_40.read_on_grid(30, small_grid)\n",
    "press_med_400 = press_400.read_on_grid(60, small_grid)\n",
    "press_med_1000 = press_1000.read_on_grid(150, small_grid)"
   ]
  },
  {
   "cell_type": "code",
   "execution_count": null,
   "id": "3f4a6cc3-664b-48b3-b3e2-fe9674a0c0e2",
   "metadata": {},
   "outputs": [],
   "source": [
    "rho_late_40 = rho_40.read_on_grid(70, small_grid)\n",
    "rho_late_400 = rho_400.read_on_grid(150, small_grid)\n",
    "rho_late_1000 = rho_1000.read_on_grid(400, small_grid)\n",
    "\n",
    "vel_late_40 = vel_40.read_on_grid(70, small_grid)\n",
    "vel_late_400 = vel_400.read_on_grid(150, small_grid)\n",
    "vel_late_1000 = vel_1000.read_on_grid(400, small_grid)\n",
    "\n",
    "press_late_40 = press_40.read_on_grid(70, small_grid)\n",
    "press_late_400 = press_400.read_on_grid(150, small_grid)\n",
    "press_late_1000 = press_1000.read_on_grid(400, small_grid)"
   ]
  },
  {
   "cell_type": "code",
   "execution_count": null,
   "id": "47eb75c6-a523-44b4-a2a4-28086fd1d10e",
   "metadata": {},
   "outputs": [],
   "source": [
    "print(*rho_final_40.coordinates_meshgrid())\n",
    "# What does this function do? (look at documentation)"
   ]
  },
  {
   "cell_type": "code",
   "execution_count": null,
   "id": "2d0992ca-8fee-4df0-bca0-ec1d80320918",
   "metadata": {},
   "outputs": [],
   "source": [
    "plt.plot(*rho_in_40.coordinates_meshgrid(), rho_in_40.data_xyz, label=\"t = 0\")\n",
    "plt.plot(*rho_med_40.coordinates_meshgrid(), rho_med_40.data_xyz, label=\"t = 30\")\n",
    "plt.plot(*rho_late_40.coordinates_meshgrid(), rho_late_40.data_xyz, label=\"t = 70\")\n",
    "plt.plot(*rho_final_40.coordinates_meshgrid(), rho_final_40.data_xyz, label=\"t = 100\")\n",
    "\n",
    "\n",
    "plt.title('40 points')\n",
    "plt.xlabel('space')\n",
    "plt.ylabel('Mass density')\n",
    "plt.xlim(-0.5, 0.5)\n",
    "plt.legend()\n",
    "plt.show()"
   ]
  },
  {
   "cell_type": "code",
   "execution_count": null,
   "id": "f1089965-a338-495d-8749-7ab566e0e6f9",
   "metadata": {},
   "outputs": [],
   "source": [
    "plt.plot(*rho_in_400.coordinates_meshgrid(), rho_in_400.data_xyz, label=\"t = 0\")\n",
    "plt.plot(*rho_med_400.coordinates_meshgrid(), rho_med_400.data_xyz, label=\"t = 60\")\n",
    "plt.plot(*rho_late_400.coordinates_meshgrid(), rho_late_400.data_xyz, label=\"t = 150\")\n",
    "plt.plot(*rho_final_400.coordinates_meshgrid(), rho_final_400.data_xyz, label=\"t = 200\")\n",
    "\n",
    "\n",
    "plt.title('400 points')\n",
    "plt.xlabel('space')\n",
    "plt.ylabel('Mass density')\n",
    "plt.xlim(-0.5, 0.5)\n",
    "plt.legend()\n",
    "plt.show()"
   ]
  },
  {
   "cell_type": "code",
   "execution_count": null,
   "id": "877d275c-4f04-4ea7-b54d-c568dfc9433a",
   "metadata": {},
   "outputs": [],
   "source": [
    "plt.plot(*rho_in_1000.coordinates_meshgrid(), rho_in_1000.data_xyz, label=\"t = 0\")\n",
    "plt.plot(*rho_med_1000.coordinates_meshgrid(), rho_med_1000.data_xyz, label=\"t = 150\")\n",
    "plt.plot(*rho_late_1000.coordinates_meshgrid(), rho_late_1000.data_xyz, label=\"t = 400\")\n",
    "plt.plot(*rho_final_1000.coordinates_meshgrid(), rho_final_1000.data_xyz, label=\"t = 500\")\n",
    "\n",
    "plt.title('1000 points')\n",
    "plt.xlabel('space')\n",
    "plt.ylabel('Mass density')\n",
    "plt.xlim(-0.5, 0.5)\n",
    "plt.legend()\n",
    "plt.show()"
   ]
  },
  {
   "cell_type": "code",
   "execution_count": null,
   "id": "113ae2df-1e51-4c6a-914d-bae94d6bb8b7",
   "metadata": {},
   "outputs": [],
   "source": [
    "plt.plot(*vel_in_40.coordinates_meshgrid(), vel_in_40.data_xyz, label=\"t = 0\")\n",
    "plt.plot(*vel_med_40.coordinates_meshgrid(), vel_med_40.data_xyz, label=\"t = 30\")\n",
    "plt.plot(*vel_late_40.coordinates_meshgrid(), vel_late_40.data_xyz, label=\"t = 70\")\n",
    "plt.plot(*vel_final_40.coordinates_meshgrid(), vel_final_40.data_xyz, label=\"t = 100\")\n",
    "\n",
    "plt.title('40 points')\n",
    "plt.xlabel('space')\n",
    "plt.ylabel('Velocity along x')\n",
    "plt.xlim(-0.5, 0.5)\n",
    "plt.legend()\n",
    "plt.show()\n",
    "\n",
    "plt.plot(*vel_in_400.coordinates_meshgrid(), vel_in_400.data_xyz, label=\"t = 0\")\n",
    "plt.plot(*vel_med_400.coordinates_meshgrid(), vel_med_400.data_xyz, label=\"t = 60\")\n",
    "plt.plot(*vel_late_400.coordinates_meshgrid(), vel_late_400.data_xyz, label=\"t = 150\")\n",
    "plt.plot(*vel_final_400.coordinates_meshgrid(), vel_final_400.data_xyz, label=\"t = 200\")\n",
    "\n",
    "plt.title('400 points')\n",
    "plt.xlabel('space')\n",
    "plt.ylabel('Velocity along x')\n",
    "plt.xlim(-0.5, 0.5)\n",
    "plt.legend()\n",
    "plt.show()\n",
    "\n",
    "plt.plot(*vel_in_1000.coordinates_meshgrid(), vel_in_1000.data_xyz, label=\"t = 0\")\n",
    "plt.plot(*vel_med_1000.coordinates_meshgrid(), vel_med_1000.data_xyz, label=\"t = 150\")\n",
    "plt.plot(*vel_late_1000.coordinates_meshgrid(), vel_late_1000.data_xyz, label=\"t = 400\")\n",
    "plt.plot(*vel_final_1000.coordinates_meshgrid(), vel_final_1000.data_xyz, label=\"t = 500\")\n",
    "\n",
    "plt.title('1000 points')\n",
    "plt.xlabel('space')\n",
    "plt.ylabel('Velocity along x')\n",
    "plt.xlim(-0.5, 0.5)\n",
    "plt.legend()\n",
    "plt.show()"
   ]
  },
  {
   "cell_type": "code",
   "execution_count": null,
   "id": "36ad4973-5f9e-4f5f-8a02-43fa83bde459",
   "metadata": {},
   "outputs": [],
   "source": [
    "plt.plot(*press_in_40.coordinates_meshgrid(), press_in_40.data_xyz, label=\"t = 0\")\n",
    "plt.plot(*press_med_40.coordinates_meshgrid(), press_med_40.data_xyz, label=\"t = 30\")\n",
    "plt.plot(*press_late_40.coordinates_meshgrid(), press_late_40.data_xyz, label=\"t = 70\")\n",
    "plt.plot(*press_final_40.coordinates_meshgrid(), press_final_40.data_xyz, label=\"t = 100\")\n",
    "\n",
    "plt.title('40 points')\n",
    "plt.xlabel('space')\n",
    "plt.ylabel('Pressure')\n",
    "plt.xlim(-0.5, 0.5)\n",
    "plt.legend()\n",
    "plt.show()\n",
    "\n",
    "plt.plot(*press_in_400.coordinates_meshgrid(), press_in_400.data_xyz, label=\"t = 0\")\n",
    "plt.plot(*press_med_400.coordinates_meshgrid(), press_med_400.data_xyz, label=\"t = 60\")\n",
    "plt.plot(*press_late_400.coordinates_meshgrid(), press_late_400.data_xyz, label=\"t = 150\")\n",
    "plt.plot(*press_final_400.coordinates_meshgrid(), press_final_400.data_xyz, label=\"t = 200\")\n",
    "\n",
    "plt.title('400 points')\n",
    "plt.xlabel('space')\n",
    "plt.ylabel('Pressure')\n",
    "plt.xlim(-0.5, 0.5)\n",
    "plt.legend()\n",
    "plt.show()\n",
    "\n",
    "plt.plot(*press_in_1000.coordinates_meshgrid(), press_in_1000.data_xyz, label=\"t = 0\")\n",
    "plt.plot(*press_med_1000.coordinates_meshgrid(), press_med_1000.data_xyz, label=\"t = 150\")\n",
    "plt.plot(*press_late_1000.coordinates_meshgrid(), press_late_1000.data_xyz, label=\"t = 400\")\n",
    "plt.plot(*press_final_1000.coordinates_meshgrid(), press_final_1000.data_xyz, label=\"t = 500\")\n",
    "\n",
    "plt.title('1000 points')\n",
    "plt.xlabel('space')\n",
    "plt.ylabel('Pressure')\n",
    "plt.xlim(-0.5, 0.5)\n",
    "plt.legend()\n",
    "plt.show()"
   ]
  },
  {
   "cell_type": "code",
   "execution_count": null,
   "id": "d86359d0-106e-4eef-b8da-17228249a183",
   "metadata": {},
   "outputs": [],
   "source": [
    "plt.plot(*rho_final_40.coordinates_meshgrid(), rho_final_40.data_xyz, label=\"40 points\")\n",
    "plt.plot(*rho_final_400.coordinates_meshgrid(), rho_final_400.data_xyz, label=\"400 points\")\n",
    "plt.plot(*rho_final_1000.coordinates_meshgrid(), rho_final_1000.data_xyz, label=\"1000 points\")\n",
    "\n",
    "plt.plot(x_exact, rho_exact, label=\"exact\", lw = 1, ls = '--')\n",
    "plt.xlabel('space')\n",
    "plt.ylabel('Mass density')\n",
    "plt.xlim(-0.5, 0.5)\n",
    "plt.legend()\n",
    "plt.show()\n",
    "\n",
    "plt.plot(*rho_final_40.coordinates_meshgrid(), rho_final_40.data_xyz, label=\"40 points\")\n",
    "plt.plot(*rho_final_400.coordinates_meshgrid(), rho_final_400.data_xyz, label=\"400 points\")\n",
    "plt.plot(*rho_final_1000.coordinates_meshgrid(), rho_final_1000.data_xyz, label=\"1000 points\")\n",
    "\n",
    "plt.plot(x_exact, rho_exact, label=\"exact\", lw = 1, ls = '--')\n",
    "plt.title('Contact Discontinuity')\n",
    "plt.xlabel('space')\n",
    "plt.ylabel('Mass density')\n",
    "plt.xlim(0.1, 0.25)\n",
    "plt.ylim(0.2, 0.6)\n",
    "plt.legend()\n",
    "plt.show()\n",
    "\n",
    "plt.plot(*rho_final_40.coordinates_meshgrid(), rho_final_40.data_xyz, label=\"40 points\")\n",
    "plt.plot(*rho_final_400.coordinates_meshgrid(), rho_final_400.data_xyz, label=\"400 points\")\n",
    "plt.plot(*rho_final_1000.coordinates_meshgrid(), rho_final_1000.data_xyz, label=\"1000 points\")\n",
    "\n",
    "plt.plot(x_exact, rho_exact, label=\"exact\", lw = 1, ls = '--')\n",
    "plt.title('Rarefaction Wave')\n",
    "plt.xlabel('space')\n",
    "plt.ylabel('Mass density')\n",
    "plt.xlim(-0.4, -0.2)\n",
    "plt.ylim(0.93, 1.02)\n",
    "plt.legend()\n",
    "plt.show()"
   ]
  },
  {
   "cell_type": "code",
   "execution_count": null,
   "id": "ed1be5c3-c63a-48a4-9c28-f9665a477562",
   "metadata": {},
   "outputs": [],
   "source": [
    "plt.plot(*vel_final_40.coordinates_meshgrid(), vel_final_40.data_xyz, label=\"40 points\")\n",
    "plt.plot(*vel_final_400.coordinates_meshgrid(), vel_final_400.data_xyz, label=\"400 points\")\n",
    "plt.plot(*vel_final_1000.coordinates_meshgrid(), vel_final_1000.data_xyz, label=\"1000 points\")\n",
    "\n",
    "plt.plot(x_exact, vx_exact, label=\"exact\", lw = 1, ls = '--')\n",
    "plt.xlabel('space')\n",
    "plt.ylabel('Velocity along x')\n",
    "plt.xlim(-0.5, 0.5)\n",
    "plt.legend()\n",
    "plt.show()\n",
    "\n",
    "plt.plot(*press_final_40.coordinates_meshgrid(), press_final_40.data_xyz, label=\"40 points\")\n",
    "plt.plot(*press_final_400.coordinates_meshgrid(), press_final_400.data_xyz, label=\"400 points\")\n",
    "plt.plot(*press_final_1000.coordinates_meshgrid(), press_final_1000.data_xyz, label=\"1000 points\")\n",
    "\n",
    "plt.plot(x_exact, press_exact, label=\"exact\", lw = 1, ls = '--')\n",
    "plt.xlim(-0.5, 0.5)\n",
    "plt.xlabel('space')\n",
    "plt.ylabel('Pressure')\n",
    "plt.legend()\n",
    "plt.show()\n"
   ]
  },
  {
   "cell_type": "code",
   "execution_count": null,
   "id": "a637f0eb-b465-4bd6-80a2-5acca1f2d453",
   "metadata": {},
   "outputs": [],
   "source": []
  }
 ],
 "metadata": {
  "kernelspec": {
   "display_name": "Python 3 (ipykernel)",
   "language": "python",
   "name": "python3"
  },
  "language_info": {
   "codemirror_mode": {
    "name": "ipython",
    "version": 3
   },
   "file_extension": ".py",
   "mimetype": "text/x-python",
   "name": "python",
   "nbconvert_exporter": "python",
   "pygments_lexer": "ipython3",
   "version": "3.9.13"
  }
 },
 "nbformat": 4,
 "nbformat_minor": 5
}
