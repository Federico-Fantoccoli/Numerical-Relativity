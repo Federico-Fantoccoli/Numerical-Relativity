{
 "cells": [
  {
   "cell_type": "markdown",
   "id": "bcc0c289-d8c3-48ec-aace-71ab2072568b",
   "metadata": {},
   "source": [
    "# Advection Equation Plotter"
   ]
  },
  {
   "cell_type": "code",
   "execution_count": null,
   "id": "18af9cbc-17ef-439a-91a5-51d334f76776",
   "metadata": {},
   "outputs": [],
   "source": [
    "import numpy as np\n",
    "import matplotlib.pyplot as plt \n",
    "import scipy.stats as sp\n",
    "import imageio\n",
    "import os"
   ]
  },
  {
   "cell_type": "code",
   "execution_count": null,
   "id": "6afe858a-c769-4fb7-9ff6-568745e4e3fb",
   "metadata": {},
   "outputs": [],
   "source": [
    "# Unfiorm initial function (step function)\n",
    "def uniform (min_val, max_val, vector):\n",
    "    \n",
    "    v1 = np.zeros(len(vector))\n",
    "    \n",
    "    for i in range(len(vector)):\n",
    "        if (vector[i] >= min_val and vector[i] <= max_val):\n",
    "            v1[i] = 1 \n",
    "        \n",
    "    return v1"
   ]
  },
  {
   "cell_type": "markdown",
   "id": "0abdf608-1add-493e-a392-7ef2cb87da5d",
   "metadata": {},
   "source": [
    "## Data Loading function"
   ]
  },
  {
   "cell_type": "markdown",
   "id": "173c144e-5389-49d0-97be-a0413b60f582",
   "metadata": {},
   "source": [
    "This function loads the data from the output files and sort them from the lowest number of points to the highest"
   ]
  },
  {
   "cell_type": "code",
   "execution_count": null,
   "id": "fb9e0879-a266-4d52-b8dc-d794efd64e98",
   "metadata": {},
   "outputs": [],
   "source": [
    "def Data_download (cf_vector, n_points, method):\n",
    "\n",
    "    data_1, data_2, data_3 = [],[],[]\n",
    "\n",
    "    sorted_sol, sorted_norm, sorted_var = [],[],[]\n",
    "    \n",
    "    sorting_sol = [[] for i in range(len(n_points))]\n",
    "    sorting_norm = [[] for i in range(len(n_points))]\n",
    "    sorting_var = [[] for i in range(len(n_points))]\n",
    "    \n",
    "    data_sol = [[] for i in range(len(cf_vector))]\n",
    "    data_norm = [[] for i in range(len(cf_vector))]\n",
    "    data_var = [[] for i in range(len(cf_vector))]\n",
    "   \n",
    "    path_1 = str(method) + '/Solutions'\n",
    "    path_2 = str(method) + '/Norms'\n",
    "    path_3 = str(method) + '/Tot_var'\n",
    "\n",
    "    for filename in os.listdir(path_1):\n",
    "        data_1.append(np.load(os.path.join(path_1, filename)))\n",
    "\n",
    "    for filename in os.listdir(path_1):\n",
    "        data_2.append(np.load(os.path.join(path_2, filename)))\n",
    "\n",
    "    for filename in os.listdir(path_3):\n",
    "        data_3.append(np.load(os.path.join(path_3, filename)))\n",
    "\n",
    "    for j in range(len(n_points)):\n",
    "        for i in range(len(data_1)):\n",
    "\n",
    "            if data_1[i]['n_points'] == n_points[j]:\n",
    "                sorting_sol[j].append(data_1[i])\n",
    "                sorting_norm[j].append(data_2[i])\n",
    "                sorting_var[j].append(data_3[i])\n",
    "\n",
    "    for i in range(len(sorting_sol)):\n",
    "        \n",
    "        sorted_sol += sorting_sol[i]\n",
    "        sorted_norm += sorting_norm[i]\n",
    "        sorted_var += sorting_var[i]\n",
    "\n",
    "    \n",
    "    \n",
    "   # for i in range(len(sorted_sol)):\n",
    "     #   print(sorted_sol[i])\n",
    "    \n",
    "    for k in range(len(sorted_sol)):\n",
    "        for j in range(len(cf_vector)):\n",
    "            \n",
    "            if sorted_sol[k]['cf'] == cf_vector[j]:\n",
    "                    data_sol[j].append(sorted_sol[k])\n",
    "                    \n",
    "    for k in range(len(sorted_norm)):\n",
    "        for j in range(len(cf_vector)):\n",
    "                \n",
    "            if sorted_norm[k]['cf'] == cf_vector[j]:\n",
    "                    data_norm[j].append(sorted_norm[k])\n",
    "\n",
    "    for k in range(len(sorted_var)):\n",
    "        for j in range(len(cf_vector)):\n",
    "                \n",
    "            if sorted_var[k]['cf'] == cf_vector[j]:\n",
    "                    data_var[j].append(sorted_var[k])\n",
    "\n",
    "        \n",
    "    return data_sol, data_norm, data_var\n",
    "                "
   ]
  },
  {
   "cell_type": "markdown",
   "id": "29b37a25-604c-48a5-8c1c-05f0b402b2a9",
   "metadata": {},
   "source": [
    "## FTCS"
   ]
  },
  {
   "cell_type": "markdown",
   "id": "d09db1d8-52da-4d62-8318-a56f998d26d8",
   "metadata": {},
   "source": [
    "In general, I used the cf set and the number of points indicated here, I defined them here.\n",
    "\n",
    "IMPORTANT: Before runnign the cells to plot the graphs of a method, the cell with the Loading function for the method (first cell of each section) must be called"
   ]
  },
  {
   "cell_type": "code",
   "execution_count": null,
   "id": "5d033a34-0ddc-4851-9fce-dd20516c79f0",
   "metadata": {},
   "outputs": [],
   "source": [
    "# FTCS \n",
    "x0 = 5  \n",
    "cf_vector = [0.1, 0.3, 0.5, 0.8, 1]\n",
    "n_points = [201, 402, 603, 804, 1005]\n",
    "data_sol, data_norm, data_var = Data_download (cf_vector, n_points, 'FTCS')\n"
   ]
  },
  {
   "cell_type": "code",
   "execution_count": null,
   "id": "b2022742-dc54-48d8-a463-017f879cb4a1",
   "metadata": {},
   "outputs": [],
   "source": [
    "x0 = 5    \n",
    "\n",
    "for i in range(len(cf_vector)):\n",
    "    for j in range(len(data_sol[0])):\n",
    "        \n",
    "        plt.plot(data_sol[i][j]['x_grid'], data_sol[i][j]['sol'], label = 'N_points: ' + str(len(data_sol[i][j]['x_grid'])), lw = 2)\n",
    "    \n",
    "    plt.plot(data_sol[-1][j]['x_grid'], np.exp(-(data_sol[-1][j]['x_grid']-x0)**2), color = 'black', ls = '--', lw = 2)\n",
    "    plt.title('FTCS: Time = 20.0' + ' CF = ' + str(data_sol[i][0]['cf']))\n",
    "    plt.xlabel('Space')\n",
    "    plt.legend()\n",
    "    plt.ylim(0, 1.1)\n",
    "    plt.show()\n",
    "\n"
   ]
  },
  {
   "cell_type": "code",
   "execution_count": null,
   "id": "ec9dbede-9b26-4155-a1e6-40e0481c9d63",
   "metadata": {},
   "outputs": [],
   "source": [
    "for i in range(len(cf_vector)):\n",
    "    for j in range(len(data_sol[0])):\n",
    "        \n",
    "        plt.plot(data_norm[i][j]['time'], data_norm[i][j]['L2_norm'], label = 'N_points: ' + str(len(data_sol[i][j]['x_grid'])), lw = 2)\n",
    "    \n",
    "    plt.title('FTCS: L2 Norms -' + ' CF = ' + str(data_norm[i][0]['cf']))\n",
    "    plt.xlabel('Space')\n",
    "    plt.yscale('log')\n",
    "    plt.legend()\n",
    "    plt.show()\n"
   ]
  },
  {
   "cell_type": "markdown",
   "id": "76bf2669-5cbc-4f8f-9e71-9d3befb843ef",
   "metadata": {},
   "source": [
    "## LF GAUSSIAN"
   ]
  },
  {
   "cell_type": "code",
   "execution_count": null,
   "id": "d7e5667e-3ae1-47cb-84a7-c8503e7a0cdb",
   "metadata": {},
   "outputs": [],
   "source": [
    "# LF GAUSSIAN \n",
    "\n",
    "cf_vector = [0.1, 0.3, 0.5, 0.8, 1]\n",
    "n_points = [201, 402, 603, 804, 1005]\n",
    "data_sol, data_norm, data_var = Data_download (cf_vector, n_points, 'LF_Gauss')\n"
   ]
  },
  {
   "cell_type": "code",
   "execution_count": null,
   "id": "82554fc5-01dc-4e4f-8859-51ac64c6f124",
   "metadata": {},
   "outputs": [],
   "source": [
    "for i in range(len(cf_vector)):\n",
    "    for j in range(len(data_sol[0])):\n",
    "        \n",
    "        plt.plot(data_sol[i][j]['x_grid'], data_sol[i][j]['sol'], label = 'N_points: ' + str(len(data_sol[i][j]['x_grid'])), lw = 2)\n",
    "    \n",
    "    plt.plot(data_sol[-1][j]['x_grid'], np.exp(-(data_sol[-1][j]['x_grid']-x0)**2), color = 'black', ls = '--', lw = 2)\n",
    "    plt.title('LF: Time = 20.0' + ' CF = ' + str(data_sol[i][0]['cf']))\n",
    "    plt.xlabel('Space')\n",
    "    plt.legend()\n",
    "    plt.show()\n"
   ]
  },
  {
   "cell_type": "code",
   "execution_count": null,
   "id": "ef499ba3-da9e-4897-b7ae-118978848dda",
   "metadata": {},
   "outputs": [],
   "source": [
    "for i in range(len(cf_vector)):\n",
    "    for j in range(len(data_norm[0])):\n",
    "        \n",
    "        plt.plot(data_norm[i][j]['time'], data_norm[i][j]['L2_norm']/data_norm[i][j]['L2_norm'][0], label = 'N_points: ' + str(len(data_sol[i][j]['x_grid'])), lw = 2)\n",
    "\n",
    "    plt.title('LF: L2 Norms -' + ' CF = ' + str(data_norm[i][0]['cf']))\n",
    "    plt.xlabel('Space')\n",
    "    plt.yscale('log')\n",
    "    plt.legend()\n",
    "    plt.show()\n",
    "\n",
    "# For cf = 1, change the scale!"
   ]
  },
  {
   "cell_type": "markdown",
   "id": "be66712a-a7f1-4d4f-b2fd-d0ed031f4fe1",
   "metadata": {},
   "source": [
    "## LEAPFROG GAUSSIAN"
   ]
  },
  {
   "cell_type": "code",
   "execution_count": null,
   "id": "4b654ac2-7c40-4a7e-81b2-714f99cbe467",
   "metadata": {},
   "outputs": [],
   "source": [
    "data_sol, data_norm, data_var = Data_download (cf_vector, n_points, 'Leapfrog')"
   ]
  },
  {
   "cell_type": "code",
   "execution_count": null,
   "id": "2bed4c41-6e9a-4f33-950a-a05f793b23f8",
   "metadata": {},
   "outputs": [],
   "source": [
    "for i in range(len(cf_vector)):\n",
    "    for j in range(len(data_sol[0])):\n",
    "        \n",
    "        plt.plot(data_sol[i][j]['x_grid'], data_sol[i][j]['sol'], label = 'N_points: ' + str(len(data_sol[i][j]['x_grid'])), lw = 2)\n",
    "    \n",
    "    plt.plot(data_sol[-1][j]['x_grid'], np.exp(-(data_sol[-1][j]['x_grid']-x0)**2), color = 'black', ls = '--', lw = 2)\n",
    "    plt.title('Leapfrog: Time = 20.0' + ' CF = ' + str(data_sol[i][0]['cf']))\n",
    "    plt.xlabel('Space')\n",
    "    plt.legend()\n",
    "    plt.ylim(0.7, 1.1)\n",
    "    plt.xlim(4.25,5.75)\n",
    "    plt.show()\n"
   ]
  },
  {
   "cell_type": "code",
   "execution_count": null,
   "id": "168b62b9-c494-4050-974f-976f4f986ed5",
   "metadata": {},
   "outputs": [],
   "source": [
    "for i in range(len(cf_vector)):\n",
    "    for j in range(len(data_norm[0])):\n",
    "        \n",
    "        plt.plot(data_norm[i][j]['time'], data_norm[i][j]['L2_norm']/data_norm[i][j]['L2_norm'][0], label = 'N_points: ' + str(len(data_sol[i][j]['x_grid'])), lw = 2)\n",
    "\n",
    "    plt.title('Leapfrog: L2 Norms -' + ' CF = ' + str(data_norm[i][0]['cf']))\n",
    "    plt.xlabel('Space')\n",
    "    plt.yscale('log')\n",
    "    plt.legend()\n",
    "    plt.show()\n",
    "\n",
    "# for cf = 1, change the scale"
   ]
  },
  {
   "cell_type": "markdown",
   "id": "9fc72964-906d-4887-b0c7-08fb18414c1d",
   "metadata": {},
   "source": [
    "## LW GAUSSIAN"
   ]
  },
  {
   "cell_type": "code",
   "execution_count": null,
   "id": "f7ca33ce-76e9-4b40-80c7-680a721cebaf",
   "metadata": {},
   "outputs": [],
   "source": [
    "# LW GAUSSIAN \n",
    "n_points_LW = [101, 201, 402, 603, 804, 1005]\n",
    "data_sol, data_norm, data_var = Data_download (cf_vector, n_points_LW ,'LW_Gauss')"
   ]
  },
  {
   "cell_type": "code",
   "execution_count": null,
   "id": "06b9c948-baf7-4251-8594-9c334cc15a8f",
   "metadata": {},
   "outputs": [],
   "source": [
    "for i in range(len(cf_vector)):\n",
    "    for j in range(len(data_sol[0])):\n",
    "        \n",
    "        plt.plot(data_sol[i][j]['x_grid'], data_sol[i][j]['sol'], label = 'N_points: ' + str(len(data_sol[i][j]['x_grid'])), lw = 2)\n",
    "    \n",
    "    plt.plot(data_sol[-1][j]['x_grid'], np.exp(-(data_sol[-1][j]['x_grid']-x0)**2), color = 'black', ls = '--', lw = 2)\n",
    "    plt.title('LW: Time = 20.0' + ' CF = ' + str(data_sol[i][0]['cf']))\n",
    "    plt.xlabel('Space')\n",
    "    plt.legend()\n",
    "    plt.show()\n"
   ]
  },
  {
   "cell_type": "code",
   "execution_count": null,
   "id": "5b69d980-7fcf-4104-b67a-1e29064cfc26",
   "metadata": {},
   "outputs": [],
   "source": [
    "for i in range(len(cf_vector)):\n",
    "    for j in range(len(data_sol[0])):\n",
    "        \n",
    "        plt.plot(data_sol[i][j]['x_grid'], data_sol[i][j]['sol'], label = 'N_points: ' + str(len(data_sol[i][j]['x_grid'])), lw = 2)\n",
    "    \n",
    "    plt.plot(data_sol[-1][j]['x_grid'], np.exp(-(data_sol[-1][j]['x_grid']-x0)**2), color = 'black', ls = '--', lw = 2)\n",
    "    plt.title('LW: Time = 20.0' + ' CF = ' + str(data_sol[i][0]['cf']))\n",
    "    plt.xlabel('Space')\n",
    "    plt.legend()\n",
    "    plt.ylim(0.75, 1.1)\n",
    "    plt.xlim(4.25, 5.75)\n",
    "    plt.show()"
   ]
  },
  {
   "cell_type": "code",
   "execution_count": null,
   "id": "1b31d11b-5159-4e30-859b-09e34974fd90",
   "metadata": {},
   "outputs": [],
   "source": [
    "for i in range(len(cf_vector)):\n",
    "    for j in range(len(data_norm[0])):\n",
    "        \n",
    "        plt.plot(data_norm[i][j]['time'], data_norm[i][j]['L2_norm']/data_norm[i][j]['L2_norm'][0], label = 'N_points: ' + str(len(data_sol[i][j]['x_grid'])), lw = 2)\n",
    "\n",
    "    plt.title('LW: L2 Norms -' + ' CF = ' + str(data_norm[i][0]['cf']))\n",
    "    plt.xlabel('Time')\n",
    "    plt.legend()\n",
    "    plt.show()\n"
   ]
  },
  {
   "cell_type": "code",
   "execution_count": null,
   "id": "8b6dfaa2-200c-45a9-81ac-1fda075d383b",
   "metadata": {},
   "outputs": [],
   "source": [
    "for i in range(len(cf_vector)):\n",
    "        \n",
    "    plt.plot(data_norm[i][3]['time'], data_norm[i][3]['L2_norm']/data_norm[i][3]['L2_norm'][0], label = 'cf: ' + str(data_sol[i][3]['cf']), lw = 2)\n",
    "\n",
    "plt.title('LW Norm comparison')\n",
    "plt.xlabel('Time')\n",
    "plt.yscale('log')\n",
    "plt.legend()\n",
    "plt.show()"
   ]
  },
  {
   "cell_type": "markdown",
   "id": "9a377379-e4ad-4285-a369-1919df0c4f96",
   "metadata": {},
   "source": [
    "## LW STEP"
   ]
  },
  {
   "cell_type": "code",
   "execution_count": null,
   "id": "5263ddd6-1ad0-4ae3-b119-0a54794adcd4",
   "metadata": {},
   "outputs": [],
   "source": [
    "# LW STEP \n",
    "n_points = [201, 402, 603, 804, 1005]\n",
    "data_sol, data_norm, data_var = Data_download (cf_vector, n_points, 'LW_Step')\n"
   ]
  },
  {
   "cell_type": "code",
   "execution_count": null,
   "id": "022ffe3e-ea4c-41cd-b56c-66f4a4f226e8",
   "metadata": {},
   "outputs": [],
   "source": [
    "for i in range(len(cf_vector)):\n",
    "    for j in range(len(data_sol[0])):\n",
    "        \n",
    "        plt.plot(data_sol[i][j]['x_grid'], data_sol[i][j]['sol'], label = 'N_points: ' + str(len(data_sol[i][j]['x_grid'])), lw = 2)\n",
    "    \n",
    "    plt.plot(data_sol[-1][-1]['x_grid'], uniform(4, 6, data_sol[-1][-1]['x_grid']), color = 'black', ls = '--', lw = 2)\n",
    "    plt.title('LW: Time = 20.0' + ' CF = ' + str(data_sol[i][0]['cf']))\n",
    "    plt.xlabel('Space')\n",
    "    plt.legend()\n",
    "    plt.show()"
   ]
  },
  {
   "cell_type": "code",
   "execution_count": null,
   "id": "4bb5e2d8-f0e7-4de0-a659-b8af872e03c2",
   "metadata": {},
   "outputs": [],
   "source": [
    "for i in range(len(cf_vector)):\n",
    "    for j in range(len(data_norm[0])):\n",
    "        \n",
    "        plt.plot(data_norm[i][j]['time'], data_norm[i][j]['L2_norm']/data_norm[i][j]['L2_norm'][0], label = 'N_points: ' + str(len(data_sol[i][j]['x_grid'])), lw = 2)\n",
    "\n",
    "    plt.title('LW: L2 Norms -' + ' CF = ' + str(data_norm[i][0]['cf']))\n",
    "    plt.xlabel('Time')\n",
    "    plt.yscale('log')\n",
    "    plt.legend()\n",
    "    plt.show()\n"
   ]
  },
  {
   "cell_type": "code",
   "execution_count": null,
   "id": "fae63885-d6fd-4a71-950b-de94baf82240",
   "metadata": {},
   "outputs": [],
   "source": [
    "for i in range(len(cf_vector)):\n",
    "    for j in range(len(data_var[0])):\n",
    "        \n",
    "        plt.plot(data_var[i][j]['time'], data_var[i][j]['total_variations'], label = 'N_points: ' + str(len(data_sol[i][j]['x_grid'])), lw = 2)\n",
    "    \n",
    "    plt.title('LW: Total Variations -' + ' CF = ' + str(data_var[i][0]['cf']))\n",
    "    plt.xlabel('Time')\n",
    "    plt.yscale('log')\n",
    "    plt.legend()\n",
    "    plt.show()"
   ]
  },
  {
   "cell_type": "code",
   "execution_count": null,
   "id": "6d744020-eef7-4a0f-a1d5-61c720d386c3",
   "metadata": {},
   "outputs": [],
   "source": [
    "for i in range(len(cf_vector)):\n",
    "        \n",
    "    plt.plot(data_norm[i][3]['time'], data_norm[i][3]['L2_norm']/data_norm[i][3]['L2_norm'][0], label = 'cf: ' + str(data_sol[i][3]['cf']), lw = 2)\n",
    "\n",
    "plt.title('LW Step Norm comparison')\n",
    "plt.xlabel('Time')\n",
    "plt.yscale('log')\n",
    "plt.legend()\n",
    "plt.show()"
   ]
  },
  {
   "cell_type": "markdown",
   "id": "b0471ec5-2db1-4d51-88ec-4d5da223dbc6",
   "metadata": {},
   "source": [
    "## LF STEP"
   ]
  },
  {
   "cell_type": "code",
   "execution_count": null,
   "id": "9293ca7c-0ed2-4292-bde8-27e84b6efc0b",
   "metadata": {},
   "outputs": [],
   "source": [
    "# LF STEP \n",
    "data_sol, data_norm, data_var = Data_download (cf_vector, n_points, 'LF_Step')"
   ]
  },
  {
   "cell_type": "code",
   "execution_count": null,
   "id": "2a4d1fa8-e1d0-40d2-b4cf-c1187f2b597a",
   "metadata": {},
   "outputs": [],
   "source": [
    "for i in range(len(cf_vector)):\n",
    "    for j in range(len(data_sol[0])):\n",
    "        \n",
    "        plt.plot(data_sol[i][j]['x_grid'], data_sol[i][j]['sol'], label = 'N_points: ' + str(len(data_sol[i][j]['x_grid'])), lw = 2)\n",
    "    \n",
    "    plt.plot(data_sol[-1][-1]['x_grid'], uniform(4, 6, data_sol[-1][-1]['x_grid']), color = 'black', ls = '--', lw = 2)\n",
    "    plt.title('LF: Time = 20.0' + ' CF = ' + str(data_sol[i][0]['cf']))\n",
    "    plt.xlabel('Space')\n",
    "    plt.legend()\n",
    "    plt.show()"
   ]
  },
  {
   "cell_type": "code",
   "execution_count": null,
   "id": "6deec566-76da-423d-8228-35c35e557c30",
   "metadata": {},
   "outputs": [],
   "source": [
    "for i in range(len(cf_vector)):\n",
    "    for j in range(len(data_norm[0])):\n",
    "        \n",
    "        plt.plot(data_norm[i][j]['time'], data_norm[i][j]['L2_norm']/data_norm[i][j]['L2_norm'][0], label = 'N_points: ' + str(len(data_sol[i][j]['x_grid'])), lw = 2)\n",
    "\n",
    "    plt.title('LF: L2 Norms -' + ' CF = ' + str(data_norm[i][0]['cf']))\n",
    "    plt.xlabel('Time')\n",
    "    plt.yscale('log')\n",
    "    plt.legend()\n",
    "    plt.show()"
   ]
  },
  {
   "cell_type": "code",
   "execution_count": null,
   "id": "fa124217-4cdd-4c61-9838-54a5c7f1f106",
   "metadata": {},
   "outputs": [],
   "source": [
    "for i in range(len(cf_vector)):\n",
    "    for j in range(len(data_var[0])):\n",
    "        \n",
    "        plt.plot(data_var[i][j]['time'], data_var[i][j]['total_variations'], label = 'N_points: ' + str(len(data_sol[i][j]['x_grid'])), lw = 2)\n",
    "    \n",
    "    plt.title('LF: Total Variations -' + ' CF = ' + str(data_var[i][0]['cf']))\n",
    "    plt.xlabel('Time')\n",
    "    plt.yscale('log')\n",
    "    plt.legend()\n",
    "    plt.show()"
   ]
  },
  {
   "cell_type": "markdown",
   "id": "7ebc6362-16c9-4444-b640-7ea2afbb8fd5",
   "metadata": {},
   "source": [
    "## LF OUTFLOW"
   ]
  },
  {
   "cell_type": "code",
   "execution_count": null,
   "id": "68c85f90-e368-4dca-9266-1022f68e23dd",
   "metadata": {},
   "outputs": [],
   "source": [
    "# LF GAUSS OUTFLOW\n",
    "data_sol, data_norm, data_var = Data_download (cf_vector, n_points, 'LF_Outflow')\n"
   ]
  },
  {
   "cell_type": "code",
   "execution_count": null,
   "id": "8a062110-9a21-4f7c-a70f-561823e3cf01",
   "metadata": {},
   "outputs": [],
   "source": [
    "x0 = 5    \n",
    "\n",
    "for i in range(len(cf_vector)):\n",
    "    for j in range(len(data_sol[0])):\n",
    "        \n",
    "        plt.plot(data_sol[i][j]['x_grid'], data_sol[i][j]['sol'], label = 'N_points: ' + str(len(data_sol[i][j]['x_grid'])), lw = 2)\n",
    "    \n",
    "    plt.plot(data_sol[-1][j]['x_grid'], np.exp(-(data_sol[-1][j]['x_grid']-x0)**2), color = 'black', ls = '--', lw = 2)\n",
    "    plt.title('LF: Time = 20.0' + ' CF = ' + str(data_sol[i][0]['cf']))\n",
    "    plt.xlabel('Space')\n",
    "    plt.legend()\n",
    "    #plt.yscale('log')\n",
    "    plt.show()"
   ]
  },
  {
   "cell_type": "code",
   "execution_count": null,
   "id": "747ba011-530f-48a2-a3eb-2b8a18b0f9c2",
   "metadata": {},
   "outputs": [],
   "source": [
    "for i in range(len(cf_vector)):\n",
    "    for j in range(len(data_norm[0])):\n",
    "        \n",
    "        plt.plot(data_norm[i][j]['time'], data_norm[i][j]['L2_norm']/data_norm[i][j]['L2_norm'][0], label = 'N_points: ' + str(len(data_sol[i][j]['x_grid'])), lw = 2)\n",
    "\n",
    "    plt.title('LF: L2 Norms -' + ' CF = ' + str(data_norm[i][0]['cf']))\n",
    "    plt.xlabel('Time')\n",
    "    plt.yscale('log')\n",
    "    plt.legend()\n",
    "    plt.yscale('log')\n",
    "    plt.show()"
   ]
  },
  {
   "cell_type": "code",
   "execution_count": null,
   "id": "6d9bd5b7-4d8c-46e7-b822-8881cd1b7681",
   "metadata": {},
   "outputs": [],
   "source": [
    "for i in range(len(cf_vector)):\n",
    "    for j in range(len(data_var[0])):\n",
    "        \n",
    "        plt.plot(data_var[i][j]['time'], data_var[i][j]['total_variations'], label = 'N_points: ' + str(len(data_sol[i][j]['x_grid'])), lw = 2)\n",
    "    \n",
    "    plt.title('LF: Total Variations -' + ' CF = ' + str(data_var[i][0]['cf']))\n",
    "    plt.xlabel('Time')\n",
    "    plt.legend()\n",
    "    plt.show()"
   ]
  },
  {
   "cell_type": "markdown",
   "id": "dc181791-f47c-4a63-9d31-47d9995be889",
   "metadata": {},
   "source": [
    "## LW OUTFLOW"
   ]
  },
  {
   "cell_type": "code",
   "execution_count": null,
   "id": "bd739cb2-573a-4376-a8d8-9c68d9219572",
   "metadata": {},
   "outputs": [],
   "source": [
    "# LW GAUSS OUTFLOW\n",
    "\n",
    "data_sol, data_norm, data_var = Data_download (cf_vector, n_points, 'LW_Outflow')"
   ]
  },
  {
   "cell_type": "code",
   "execution_count": null,
   "id": "d952448d-d226-46c6-a63d-5c662152446d",
   "metadata": {},
   "outputs": [],
   "source": [
    "x0 = 5    \n",
    "\n",
    "for i in range(len(cf_vector)):\n",
    "    for j in range(len(data_sol[0])):\n",
    "        \n",
    "        plt.plot(data_sol[i][j]['x_grid'], data_sol[i][j]['sol'], label = 'N_points: ' + str(len(data_sol[i][j]['x_grid'])), lw = 2)\n",
    "    \n",
    "    plt.plot(data_sol[-1][j]['x_grid'], np.exp(-(data_sol[-1][j]['x_grid']-x0)**2), color = 'black', ls = '--', lw = 2)\n",
    "    plt.title('LW: Time = 20.0' + ' CF = ' + str(data_sol[i][0]['cf']))\n",
    "    plt.xlabel('Space')\n",
    "    plt.legend()\n",
    "    #plt.yscale('log')\n",
    "    plt.show()"
   ]
  },
  {
   "cell_type": "code",
   "execution_count": null,
   "id": "9d26f5a5-3939-4c8c-b595-567757a5d9ed",
   "metadata": {},
   "outputs": [],
   "source": [
    "for i in range(len(cf_vector)):\n",
    "    for j in range(len(data_norm[0])):\n",
    "        \n",
    "        plt.plot(data_norm[i][j]['time'], data_norm[i][j]['L2_norm']/data_norm[i][j]['L2_norm'][0], label = 'N_points: ' + str(len(data_sol[i][j]['x_grid'])), lw = 2)\n",
    "\n",
    "    plt.title('LW: L2 Norms -' + ' CF = ' + str(data_norm[i][0]['cf']))\n",
    "    plt.xlabel('Time')\n",
    "    plt.yscale('log')\n",
    "    plt.legend()\n",
    "    plt.yscale('log')\n",
    "    plt.show()"
   ]
  },
  {
   "cell_type": "code",
   "execution_count": null,
   "id": "d7dc0e17-7ec2-4721-8a0c-2bcf11bd8ca0",
   "metadata": {},
   "outputs": [],
   "source": [
    "for i in range(len(cf_vector)):\n",
    "    for j in range(len(data_var[0])):\n",
    "        \n",
    "        plt.plot(data_var[i][j]['time'], data_var[i][j]['total_variations'], label = 'N_points: ' + str(len(data_sol[i][j]['x_grid'])), lw = 2)\n",
    "    \n",
    "    plt.title('LW: Total Variations -' + ' CF = ' + str(data_var[i][0]['cf']))\n",
    "    plt.xlabel('Time')\n",
    "    plt.legend()\n",
    "    plt.show()"
   ]
  },
  {
   "cell_type": "code",
   "execution_count": null,
   "id": "a9accc5d-658f-491a-935e-e8d72974a14f",
   "metadata": {},
   "outputs": [],
   "source": []
  }
 ],
 "metadata": {
  "kernelspec": {
   "display_name": "Python 3 (ipykernel)",
   "language": "python",
   "name": "python3"
  },
  "language_info": {
   "codemirror_mode": {
    "name": "ipython",
    "version": 3
   },
   "file_extension": ".py",
   "mimetype": "text/x-python",
   "name": "python",
   "nbconvert_exporter": "python",
   "pygments_lexer": "ipython3",
   "version": "3.9.13"
  }
 },
 "nbformat": 4,
 "nbformat_minor": 5
}
